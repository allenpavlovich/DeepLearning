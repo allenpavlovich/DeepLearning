{
 "cells": [
  {
   "cell_type": "markdown",
   "metadata": {},
   "source": [
    "# Convolutional Neural Networks: Application\n",
    "\n",
    "Welcome to Course 4's second assignment! In this notebook, you will:\n",
    "\n",
    "- Create a mood classifer using the TF Keras Sequential API\n",
    "- Build a ConvNet to identify sign language digits using the TF Keras Functional API\n",
    "\n",
    "**After this assignment you will be able to:**\n",
    "\n",
    "- Build and train a ConvNet in TensorFlow for a __binary__ classification problem\n",
    "- Build and train a ConvNet in TensorFlow for a __multiclass__ classification problem\n",
    "- Explain different use cases for the Sequential and Functional APIs\n",
    "\n",
    "To complete this assignment, you should already be familiar with TensorFlow. If you are not, please refer back to the **TensorFlow Tutorial** of the third week of Course 2 (\"**Improving deep neural networks**\")."
   ]
  },
  {
   "cell_type": "markdown",
   "metadata": {},
   "source": [
    "## Table of Contents\n",
    "\n",
    "- [1 - Packages](#1)\n",
    "    - [1.1 - Load the Data and Split the Data into Train/Test Sets](#1-1)\n",
    "- [2 - Layers in TF Keras](#2)\n",
    "- [3 - The Sequential API](#3)\n",
    "    - [3.1 - Create the Sequential Model](#3-1)\n",
    "        - [Exercise 1 - happyModel](#ex-1)\n",
    "    - [3.2 - Train and Evaluate the Model](#3-2)\n",
    "- [4 - The Functional API](#4)\n",
    "    - [4.1 - Load the SIGNS Dataset](#4-1)\n",
    "    - [4.2 - Split the Data into Train/Test Sets](#4-2)\n",
    "    - [4.3 - Forward Propagation](#4-3)\n",
    "        - [Exercise 2 - convolutional_model](#ex-2)\n",
    "    - [4.4 - Train the Model](#4-4)\n",
    "- [5 - History Object](#5)\n",
    "- [6 - Bibliography](#6)"
   ]
  },
  {
   "cell_type": "markdown",
   "metadata": {},
   "source": [
    "<a name='1'></a>\n",
    "## 1 - Packages\n",
    "\n",
    "As usual, begin by loading in the packages."
   ]
  },
  {
   "cell_type": "code",
   "execution_count": 1,
   "metadata": {},
   "outputs": [],
   "source": [
    "import math\n",
    "import numpy as np\n",
    "import h5py\n",
    "import matplotlib.pyplot as plt\n",
    "from matplotlib.pyplot import imread\n",
    "import scipy\n",
    "from PIL import Image\n",
    "import pandas as pd\n",
    "import tensorflow as tf\n",
    "import tensorflow.keras.layers as tfl\n",
    "from tensorflow.python.framework import ops\n",
    "from cnn_utils import *\n",
    "from test_utils import summary, comparator\n",
    "\n",
    "%matplotlib inline\n",
    "np.random.seed(1)"
   ]
  },
  {
   "cell_type": "markdown",
   "metadata": {},
   "source": [
    "<a name='1-1'></a>\n",
    "### 1.1 - Load the Data and Split the Data into Train/Test Sets\n",
    "\n",
    "You'll be using the Happy House dataset for this part of the assignment, which contains images of peoples' faces. Your task will be to build a ConvNet that determines whether the people in the images are smiling or not -- because they only get to enter the house if they're smiling!  "
   ]
  },
  {
   "cell_type": "code",
   "execution_count": 2,
   "metadata": {},
   "outputs": [
    {
     "name": "stdout",
     "output_type": "stream",
     "text": [
      "number of training examples = 600\n",
      "number of test examples = 150\n",
      "X_train shape: (600, 64, 64, 3)\n",
      "Y_train shape: (600, 1)\n",
      "X_test shape: (150, 64, 64, 3)\n",
      "Y_test shape: (150, 1)\n"
     ]
    }
   ],
   "source": [
    "X_train_orig, Y_train_orig, X_test_orig, Y_test_orig, classes = load_happy_dataset()\n",
    "\n",
    "# Normalize image vectors\n",
    "X_train = X_train_orig/255.\n",
    "X_test = X_test_orig/255.\n",
    "\n",
    "# Reshape\n",
    "Y_train = Y_train_orig.T\n",
    "Y_test = Y_test_orig.T\n",
    "\n",
    "print (\"number of training examples = \" + str(X_train.shape[0]))\n",
    "print (\"number of test examples = \" + str(X_test.shape[0]))\n",
    "print (\"X_train shape: \" + str(X_train.shape))\n",
    "print (\"Y_train shape: \" + str(Y_train.shape))\n",
    "print (\"X_test shape: \" + str(X_test.shape))\n",
    "print (\"Y_test shape: \" + str(Y_test.shape))"
   ]
  },
  {
   "cell_type": "markdown",
   "metadata": {},
   "source": [
    "You can display the images contained in the dataset. Images are **64x64** pixels in RGB format (3 channels)."
   ]
  },
  {
   "cell_type": "code",
   "execution_count": 3,
   "metadata": {},
   "outputs": [
    {
     "data": {
      "image/png": "[encoded data removed]",
      "text/plain": [
       "<Figure size 432x288 with 1 Axes>"
      ]
     },
     "metadata": {
      "needs_background": "light"
     },
     "output_type": "display_data"
    }
   ],
   "source": [
    "index = 124\n",
    "plt.imshow(X_train_orig[index]) #display sample training image\n",
    "plt.show()"
   ]
  },
  {
   "cell_type": "markdown",
   "metadata": {},
   "source": [
    "<a name='2'></a>\n",
    "## 2 - Layers in TF Keras \n",
    "\n",
    "In the previous assignment, you created layers manually in numpy. In TF Keras, you don't have to write code directly to create layers. Rather, TF Keras has pre-defined layers you can use. \n",
    "\n",
    "When you create a layer in TF Keras, you are creating a function that takes some input and transforms it into an output you can reuse later. Nice and easy! "
   ]
  },
  {
   "cell_type": "markdown",
   "metadata": {},
   "source": [
    "<a name='3'></a>\n",
    "## 3 - The Sequential API\n",
    "\n",
    "In the previous assignment, you built helper functions using `numpy` to understand the mechanics behind convolutional neural networks. Most practical applications of deep learning today are built using programming frameworks, which have many built-in functions you can simply call. Keras is a high-level abstraction built on top of TensorFlow, which allows for even more simplified and optimized model creation and training. \n",
    "\n",
    "For the first part of this assignment, you'll create a model using TF Keras' Sequential API, which allows you to build layer by layer, and is ideal for building models where each layer has **exactly one** input tensor and **one** output tensor. \n",
    "\n",
    "As you'll see, using the Sequential API is simple and straightforward, but is only appropriate for simpler, more straightforward tasks. Later in this notebook you'll spend some time building with a more flexible, powerful alternative: the Functional API. \n",
    " "
   ]
  },
  {
   "cell_type": "markdown",
   "metadata": {},
   "source": [
    "<a name='3-1'></a>\n",
    "### 3.1 - Create the Sequential Model\n",
    "\n",
    "As mentioned earlier, the TensorFlow Keras Sequential API can be used to build simple models with layer operations that proceed in a sequential order. \n",
    "\n",
    "You can also add layers incrementally to a Sequential model with the `.add()` method, or remove them using the `.pop()` method, much like you would in a regular Python list.\n",
    "\n",
    "Actually, you can think of a Sequential model as behaving like a list of layers. Like Python lists, Sequential layers are ordered, and the order in which they are specified matters.  If your model is non-linear or contains layers with multiple inputs or outputs, a Sequential model wouldn't be the right choice!\n",
    "\n",
    "For any layer construction in Keras, you'll need to specify the input shape in advance. This is because in Keras, the shape of the weights is based on the shape of the inputs. The weights are only created when the model first sees some input data. Sequential models can be created by passing a list of layers to the Sequential constructor, like you will do in the next assignment.\n",
    "\n",
    "<a name='ex-1'></a>\n",
    "### Exercise 1 - happyModel\n",
    "\n",
    "Implement the `happyModel` function below to build the following model: `ZEROPAD2D -> CONV2D -> BATCHNORM -> RELU -> MAXPOOL -> FLATTEN -> DENSE`. Take help from [tf.keras.layers](https://www.tensorflow.org/api_docs/python/tf/keras/layers) \n",
    "\n",
    "Also, plug in the following parameters for all the steps:\n",
    "\n",
    " - [ZeroPadding2D](https://www.tensorflow.org/api_docs/python/tf/keras/layers/ZeroPadding2D): padding 3, input shape 64 x 64 x 3\n",
    " - [Conv2D](https://www.tensorflow.org/api_docs/python/tf/keras/layers/Conv2D): Use 32 7x7 filters, stride 1\n",
    " - [BatchNormalization](https://www.tensorflow.org/api_docs/python/tf/keras/layers/BatchNormalization): for axis 3\n",
    " - [ReLU](https://www.tensorflow.org/api_docs/python/tf/keras/layers/ReLU)\n",
    " - [MaxPool2D](https://www.tensorflow.org/api_docs/python/tf/keras/layers/MaxPool2D): Using default parameters\n",
    " - [Flatten](https://www.tensorflow.org/api_docs/python/tf/keras/layers/Flatten) the previous output.\n",
    " - Fully-connected ([Dense](https://www.tensorflow.org/api_docs/python/tf/keras/layers/Dense)) layer: Apply a fully connected layer with 1 neuron and a sigmoid activation. \n",
    " \n",
    " \n",
    " **Hint:**\n",
    " \n",
    " Use **tfl** as shorthand for **tensorflow.keras.layers**"
   ]
  },
  {
   "cell_type": "code",
   "execution_count": 47,
   "metadata": {
    "deletable": false,
    "nbgrader": {
     "cell_type": "code",
     "checksum": "95d28b191f257bdd5b70c7b8952559d5",
     "grade": false,
     "grade_id": "cell-0e56d3fc28b69aec",
     "locked": false,
     "schema_version": 3,
     "solution": true,
     "task": false
    }
   },
   "outputs": [],
   "source": [
    "# GRADED FUNCTION: happyModel\n",
    "\n",
    "def happyModel():\n",
    "    \"\"\"\n",
    "    Implements the forward propagation for the binary classification model:\n",
    "    ZEROPAD2D -> CONV2D -> BATCHNORM -> RELU -> MAXPOOL -> FLATTEN -> DENSE\n",
    "    \n",
    "    Note that for simplicity and grading purposes, you'll hard-code all the values\n",
    "    such as the stride and kernel (filter) sizes. \n",
    "    Normally, functions should take these values as function parameters.\n",
    "    \n",
    "    Arguments:\n",
    "    None\n",
    "\n",
    "    Returns:\n",
    "    model -- TF Keras model (object containing the information for the entire training process) \n",
    "    \"\"\"\n",
    "    model = tf.keras.Sequential([\n",
    "            ## ZeroPadding2D with padding 3, input shape of 64 x 64 x 3\n",
    "            \n",
    "            ## Conv2D with 32 7x7 filters and stride of 1\n",
    "            \n",
    "            ## BatchNormalization for axis 3\n",
    "            \n",
    "            ## ReLU\n",
    "            \n",
    "            ## Max Pooling 2D with default parameters\n",
    "            \n",
    "            ## Flatten layer\n",
    "            \n",
    "            ## Dense layer with 1 unit for output & 'sigmoid' activation\n",
    "            \n",
    "            # YOUR CODE STARTS HERE\n",
    "            tfl.ZeroPadding2D(padding = (3 , 3) , input_shape = (64 , 64 , 3)),\n",
    "            tfl.Conv2D(filters = 32 , kernel_size = 7),\n",
    "            tfl.BatchNormalization(axis = 3),\n",
    "            tfl.ReLU(),\n",
    "            tfl.MaxPool2D(),\n",
    "            tfl.Flatten(),\n",
    "            tfl.Dense(units = 1, activation = 'sigmoid'),\n",
    "            # YOUR CODE ENDS HERE\n",
    "        ])\n",
    "    \n",
    "    return model"
   ]
  },
  {
   "cell_type": "code",
   "execution_count": 49,
   "metadata": {
    "deletable": false,
    "editable": false,
    "nbgrader": {
     "cell_type": "code",
     "checksum": "8d3575c950e2e78149be2d05d671c80d",
     "grade": true,
     "grade_id": "cell-e3e1046e5c33d775",
     "locked": true,
     "points": 10,
     "schema_version": 3,
     "solution": false,
     "task": false
    }
   },
   "outputs": [
    {
     "name": "stdout",
     "output_type": "stream",
     "text": [
      "['ZeroPadding2D', (None, 70, 70, 3), 0, ((3, 3), (3, 3))]\n",
      "['Conv2D', (None, 64, 64, 32), 4736, 'valid', 'linear', 'GlorotUniform']\n",
      "['BatchNormalization', (None, 64, 64, 32), 128]\n",
      "['ReLU', (None, 64, 64, 32), 0]\n",
      "['MaxPooling2D', (None, 32, 32, 32), 0, (2, 2), (2, 2), 'valid']\n",
      "['Flatten', (None, 32768), 0]\n",
      "['Dense', (None, 1), 32769, 'sigmoid']\n",
      "\u001b[32mAll tests passed!\u001b[0m\n"
     ]
    }
   ],
   "source": [
    "happy_model = happyModel()\n",
    "# Print a summary for each layer\n",
    "for layer in summary(happy_model):\n",
    "    print(layer)\n",
    "    \n",
    "output = [['ZeroPadding2D', (None, 70, 70, 3), 0, ((3, 3), (3, 3))],\n",
    "            ['Conv2D', (None, 64, 64, 32), 4736, 'valid', 'linear', 'GlorotUniform'],\n",
    "            ['BatchNormalization', (None, 64, 64, 32), 128],\n",
    "            ['ReLU', (None, 64, 64, 32), 0],\n",
    "            ['MaxPooling2D', (None, 32, 32, 32), 0, (2, 2), (2, 2), 'valid'],\n",
    "            ['Flatten', (None, 32768), 0],\n",
    "            ['Dense', (None, 1), 32769, 'sigmoid']]\n",
    "    \n",
    "comparator(summary(happy_model), output)"
   ]
  },
  {
   "cell_type": "markdown",
   "metadata": {},
   "source": [
    "Now that your model is created, you can compile it for training with an optimizer and loss of your choice. When the string `accuracy` is specified as a metric, the type of accuracy used will be automatically converted based on the loss function used. This is one of the many optimizations built into TensorFlow that make your life easier! If you'd like to read more on how the compiler operates, check the docs [here](https://www.tensorflow.org/api_docs/python/tf/keras/Model#compile)."
   ]
  },
  {
   "cell_type": "code",
   "execution_count": 50,
   "metadata": {},
   "outputs": [],
   "source": [
    "happy_model.compile(optimizer='adam',\n",
    "                   loss='binary_crossentropy',\n",
    "                   metrics=['accuracy'])"
   ]
  },
  {
   "cell_type": "markdown",
   "metadata": {},
   "source": [
    "It's time to check your model's parameters with the `.summary()` method. This will display the types of layers you have, the shape of the outputs, and how many parameters are in each layer. "
   ]
  },
  {
   "cell_type": "code",
   "execution_count": 51,
   "metadata": {},
   "outputs": [
    {
     "name": "stdout",
     "output_type": "stream",
     "text": [
      "Model: \"sequential_10\"\n",
      "_________________________________________________________________\n",
      "Layer (type)                 Output Shape              Param #   \n",
      "=================================================================\n",
      "zero_padding2d_9 (ZeroPaddin (None, 70, 70, 3)         0         \n",
      "_________________________________________________________________\n",
      "conv2d_7 (Conv2D)            (None, 64, 64, 32)        4736      \n",
      "_________________________________________________________________\n",
      "batch_normalization_5 (Batch (None, 64, 64, 32)        128       \n",
      "_________________________________________________________________\n",
      "re_lu_5 (ReLU)               (None, 64, 64, 32)        0         \n",
      "_________________________________________________________________\n",
      "max_pooling2d_4 (MaxPooling2 (None, 32, 32, 32)        0         \n",
      "_________________________________________________________________\n",
      "flatten_4 (Flatten)          (None, 32768)             0         \n",
      "_________________________________________________________________\n",
      "dense_4 (Dense)              (None, 1)                 32769     \n",
      "=================================================================\n",
      "Total params: 37,633\n",
      "Trainable params: 37,569\n",
      "Non-trainable params: 64\n",
      "_________________________________________________________________\n"
     ]
    }
   ],
   "source": [
    "happy_model.summary()"
   ]
  },
  {
   "cell_type": "markdown",
   "metadata": {},
   "source": [
    "<a name='3-2'></a>\n",
    "### 3.2 - Train and Evaluate the Model\n",
    "\n",
    "After creating the model, compiling it with your choice of optimizer and loss function, and doing a sanity check on its contents, you are now ready to build! \n",
    "\n",
    "Simply call `.fit()` to train. That's it! No need for mini-batching, saving, or complex backpropagation computations. That's all been done for you, as you're using a TensorFlow dataset with the batches specified already. You do have the option to specify epoch number or minibatch size if you like (for example, in the case of an un-batched dataset)."
   ]
  },
  {
   "cell_type": "code",
   "execution_count": 52,
   "metadata": {},
   "outputs": [
    {
     "name": "stdout",
     "output_type": "stream",
     "text": [
      "Epoch 1/10\n",
      "38/38 [==============================] - 4s 100ms/step - loss: 1.7203 - accuracy: 0.6600\n",
      "Epoch 2/10\n",
      "38/38 [==============================] - 4s 95ms/step - loss: 0.3393 - accuracy: 0.8550\n",
      "Epoch 3/10\n",
      "38/38 [==============================] - 4s 97ms/step - loss: 0.2377 - accuracy: 0.9150\n",
      "Epoch 4/10\n",
      "38/38 [==============================] - 4s 97ms/step - loss: 0.1269 - accuracy: 0.9567\n",
      "Epoch 5/10\n",
      "38/38 [==============================] - 4s 98ms/step - loss: 0.1050 - accuracy: 0.9650\n",
      "Epoch 6/10\n",
      "38/38 [==============================] - 4s 100ms/step - loss: 0.2814 - accuracy: 0.8850\n",
      "Epoch 7/10\n",
      "38/38 [==============================] - 4s 100ms/step - loss: 0.1096 - accuracy: 0.9617\n",
      "Epoch 8/10\n",
      "38/38 [==============================] - 4s 97ms/step - loss: 0.0878 - accuracy: 0.9717\n",
      "Epoch 9/10\n",
      "38/38 [==============================] - 4s 98ms/step - loss: 0.1086 - accuracy: 0.9667\n",
      "Epoch 10/10\n",
      "38/38 [==============================] - 4s 100ms/step - loss: 0.1029 - accuracy: 0.9583\n"
     ]
    },
    {
     "data": {
      "text/plain": [
       "<tensorflow.python.keras.callbacks.History at 0x7f579c39f910>"
      ]
     },
     "execution_count": 52,
     "metadata": {},
     "output_type": "execute_result"
    }
   ],
   "source": [
    "happy_model.fit(X_train, Y_train, epochs=10, batch_size=16)"
   ]
  },
  {
   "cell_type": "markdown",
   "metadata": {},
   "source": [
    "After that completes, just use `.evaluate()` to evaluate against your test set. This function will print the value of the loss function and the performance metrics specified during the compilation of the model. In this case, the `binary_crossentropy` and the `accuracy` respectively."
   ]
  },
  {
   "cell_type": "code",
   "execution_count": 53,
   "metadata": {},
   "outputs": [
    {
     "name": "stdout",
     "output_type": "stream",
     "text": [
      "5/5 [==============================] - 0s 31ms/step - loss: 0.1611 - accuracy: 0.9400\n"
     ]
    },
    {
     "data": {
      "text/plain": [
       "[0.1611068993806839, 0.9399999976158142]"
      ]
     },
     "execution_count": 53,
     "metadata": {},
     "output_type": "execute_result"
    }
   ],
   "source": [
    "happy_model.evaluate(X_test, Y_test)"
   ]
  },
  {
   "cell_type": "markdown",
   "metadata": {},
   "source": [
    "Easy, right? But what if you need to build a model with shared layers, branches, or multiple inputs and outputs? This is where Sequential, with its beautifully simple yet limited functionality, won't be able to help you. \n",
    "\n",
    "Next up: Enter the Functional API, your slightly more complex, highly flexible friend.  "
   ]
  },
  {
   "cell_type": "markdown",
   "metadata": {},
   "source": [
    "<a name='4'></a>\n",
    "## 4 - The Functional API"
   ]
  },
  {
   "cell_type": "markdown",
   "metadata": {},
   "source": [
    "Welcome to the second half of the assignment, where you'll use Keras' flexible [Functional API](https://www.tensorflow.org/guide/keras/functional) to build a ConvNet that can differentiate between 6 sign language digits. \n",
    "\n",
    "The Functional API can handle models with non-linear topology, shared layers, as well as layers with multiple inputs or outputs. Imagine that, where the Sequential API requires the model to move in a linear fashion through its layers, the Functional API allows much more flexibility. Where Sequential is a straight line, a Functional model is a graph, where the nodes of the layers can connect in many more ways than one. \n",
    "\n",
    "In the visual example below, the one possible direction of the movement Sequential model is shown in contrast to a skip connection, which is just one of the many ways a Functional model can be constructed. A skip connection, as you might have guessed, skips some layer in the network and feeds the output to a later layer in the network. Don't worry, you'll be spending more time with skip connections very soon! "
   ]
  },
  {
   "cell_type": "markdown",
   "metadata": {},
   "source": [
    "<img src=\"images/seq_vs_func.png\" style=\"width:350px;height:200px;\">"
   ]
  },
  {
   "cell_type": "markdown",
   "metadata": {},
   "source": [
    "<a name='4-1'></a>\n",
    "### 4.1 - Load the SIGNS Dataset\n",
    "\n",
    "As a reminder, the SIGNS dataset is a collection of 6 signs representing numbers from 0 to 5."
   ]
  },
  {
   "cell_type": "code",
   "execution_count": 55,
   "metadata": {},
   "outputs": [],
   "source": [
    "# Loading the data (signs)\n",
    "X_train_orig, Y_train_orig, X_test_orig, Y_test_orig, classes = load_signs_dataset()"
   ]
  },
  {
   "cell_type": "markdown",
   "metadata": {},
   "source": [
    "<img src=\"images/SIGNS.png\" style=\"width:800px;height:300px;\">\n",
    "\n",
    "The next cell will show you an example of a labelled image in the dataset. Feel free to change the value of `index` below and re-run to see different examples. "
   ]
  },
  {
   "cell_type": "code",
   "execution_count": 56,
   "metadata": {},
   "outputs": [
    {
     "name": "stdout",
     "output_type": "stream",
     "text": [
      "y = 4\n"
     ]
    },
    {
     "data": {
      "image/png": "[encoded data removed]",
      "text/plain": [
       "<Figure size 432x288 with 1 Axes>"
      ]
     },
     "metadata": {
      "needs_background": "light"
     },
     "output_type": "display_data"
    }
   ],
   "source": [
    "# Example of an image from the dataset\n",
    "index = 9\n",
    "plt.imshow(X_train_orig[index])\n",
    "print (\"y = \" + str(np.squeeze(Y_train_orig[:, index])))"
   ]
  },
  {
   "cell_type": "markdown",
   "metadata": {},
   "source": [
    "<a name='4-2'></a>\n",
    "### 4.2 - Split the Data into Train/Test Sets\n",
    "\n",
    "In Course 2, you built a fully-connected network for this dataset. But since this is an image dataset, it is more natural to apply a ConvNet to it.\n",
    "\n",
    "To get started, let's examine the shapes of your data. "
   ]
  },
  {
   "cell_type": "code",
   "execution_count": 57,
   "metadata": {},
   "outputs": [
    {
     "name": "stdout",
     "output_type": "stream",
     "text": [
      "number of training examples = 1080\n",
      "number of test examples = 120\n",
      "X_train shape: (1080, 64, 64, 3)\n",
      "Y_train shape: (1080, 6)\n",
      "X_test shape: (120, 64, 64, 3)\n",
      "Y_test shape: (120, 6)\n"
     ]
    }
   ],
   "source": [
    "X_train = X_train_orig/255.\n",
    "X_test = X_test_orig/255.\n",
    "Y_train = convert_to_one_hot(Y_train_orig, 6).T\n",
    "Y_test = convert_to_one_hot(Y_test_orig, 6).T\n",
    "print (\"number of training examples = \" + str(X_train.shape[0]))\n",
    "print (\"number of test examples = \" + str(X_test.shape[0]))\n",
    "print (\"X_train shape: \" + str(X_train.shape))\n",
    "print (\"Y_train shape: \" + str(Y_train.shape))\n",
    "print (\"X_test shape: \" + str(X_test.shape))\n",
    "print (\"Y_test shape: \" + str(Y_test.shape))"
   ]
  },
  {
   "cell_type": "markdown",
   "metadata": {},
   "source": [
    "<a name='4-3'></a>\n",
    "### 4.3 - Forward Propagation\n",
    "\n",
    "In TensorFlow, there are built-in functions that implement the convolution steps for you. By now, you should be familiar with how TensorFlow builds computational graphs. In the [Functional API](https://www.tensorflow.org/guide/keras/functional), you create a graph of layers. This is what allows such great flexibility.\n",
    "\n",
    "However, the following model could also be defined using the Sequential API since the information flow is on a single line. But don't deviate. What we want you to learn is to use the functional API.\n",
    "\n",
    "Begin building your graph of layers by creating an input node that functions as a callable object:\n",
    "\n",
    "- **input_img = tf.keras.Input(shape=input_shape):** \n",
    "\n",
    "Then, create a new node in the graph of layers by calling a layer on the `input_img` object: \n",
    "\n",
    "- **tf.keras.layers.Conv2D(filters= ... , kernel_size= ... , padding='same')(input_img):** Read the full documentation on [Conv2D](https://www.tensorflow.org/api_docs/python/tf/keras/layers/Conv2D).\n",
    "\n",
    "- **tf.keras.layers.MaxPool2D(pool_size=(f, f), strides=(s, s), padding='same'):** `MaxPool2D()` downsamples your input using a window of size (f, f) and strides of size (s, s) to carry out max pooling over each window.  For max pooling, you usually operate on a single example at a time and a single channel at a time. Read the full documentation on [MaxPool2D](https://www.tensorflow.org/api_docs/python/tf/keras/layers/MaxPool2D).\n",
    "\n",
    "- **tf.keras.layers.ReLU():** computes the elementwise ReLU of Z (which can be any shape). You can read the full documentation on [ReLU](https://www.tensorflow.org/api_docs/python/tf/keras/layers/ReLU).\n",
    "\n",
    "- **tf.keras.layers.Flatten()**: given a tensor \"P\", this function takes each training (or test) example in the batch and flattens it into a 1D vector.  \n",
    "\n",
    "    * If a tensor P has the shape (batch_size,h,w,c), it returns a flattened tensor with shape (batch_size, k), where $k=h \\times w \\times c$.  \"k\" equals the product of all the dimension sizes other than the first dimension.\n",
    "    \n",
    "    * For example, given a tensor with dimensions [100, 2, 3, 4], it flattens the tensor to be of shape [100, 24], where 24 = 2 * 3 * 4.  You can read the full documentation on [Flatten](https://www.tensorflow.org/api_docs/python/tf/keras/layers/Flatten).\n",
    "\n",
    "- **tf.keras.layers.Dense(units= ... , activation='softmax')(F):** given the flattened input F, it returns the output computed using a fully connected layer. You can read the full documentation on [Dense](https://www.tensorflow.org/api_docs/python/tf/keras/layers/Dense).\n",
    "\n",
    "In the last function above (`tf.keras.layers.Dense()`), the fully connected layer automatically initializes weights in the graph and keeps on training them as you train the model. Hence, you did not need to initialize those weights when initializing the parameters.\n",
    "\n",
    "Lastly, before creating the model, you'll need to define the output using the last of the function's compositions (in this example, a Dense layer): \n",
    "\n",
    "- **outputs = tf.keras.layers.Dense(units=6, activation='softmax')(F)**\n",
    "\n",
    "\n",
    "#### Window, kernel, filter, pool\n",
    "\n",
    "The words \"kernel\" and \"filter\" are used to refer to the same thing. The word \"filter\" accounts for the amount of \"kernels\" that will be used in a single convolution layer. \"Pool\" is the name of the operation that takes the max or average value of the kernels. \n",
    "\n",
    "This is why the parameter `pool_size` refers to `kernel_size`, and you use `(f,f)` to refer to the filter size. \n",
    "\n",
    "Pool size and kernel size refer to the same thing in different objects - They refer to the shape of the window where the operation takes place. "
   ]
  },
  {
   "cell_type": "markdown",
   "metadata": {},
   "source": [
    "<a name='ex-2'></a>\n",
    "### Exercise 2 - convolutional_model\n",
    "\n",
    "Implement the `convolutional_model` function below to build the following model: `CONV2D -> RELU -> MAXPOOL -> CONV2D -> RELU -> MAXPOOL -> FLATTEN -> DENSE`. Use the functions above! \n",
    "\n",
    "Also, plug in the following parameters for all the steps:\n",
    "\n",
    " - [Conv2D](https://www.tensorflow.org/api_docs/python/tf/keras/layers/Conv2D): Use 8 4 by 4 filters, stride 1, padding is \"SAME\"\n",
    " - [ReLU](https://www.tensorflow.org/api_docs/python/tf/keras/layers/ReLU)\n",
    " - [MaxPool2D](https://www.tensorflow.org/api_docs/python/tf/keras/layers/MaxPool2D): Use an 8 by 8 filter size and an 8 by 8 stride, padding is \"SAME\"\n",
    " - **Conv2D**: Use 16 2 by 2 filters, stride 1, padding is \"SAME\"\n",
    " - **ReLU**\n",
    " - **MaxPool2D**: Use a 4 by 4 filter size and a 4 by 4 stride, padding is \"SAME\"\n",
    " - [Flatten](https://www.tensorflow.org/api_docs/python/tf/keras/layers/Flatten) the previous output.\n",
    " - Fully-connected ([Dense](https://www.tensorflow.org/api_docs/python/tf/keras/layers/Dense)) layer: Apply a fully connected layer with 6 neurons and a softmax activation. "
   ]
  },
  {
   "cell_type": "code",
   "execution_count": 86,
   "metadata": {
    "deletable": false,
    "nbgrader": {
     "cell_type": "code",
     "checksum": "f58643806aa8380c96225fc8b4c5e7aa",
     "grade": false,
     "grade_id": "cell-dac51744a9e03f51",
     "locked": false,
     "schema_version": 3,
     "solution": true,
     "task": false
    }
   },
   "outputs": [],
   "source": [
    "# GRADED FUNCTION: convolutional_model\n",
    "\n",
    "def convolutional_model(input_shape):\n",
    "    \"\"\"\n",
    "    Implements the forward propagation for the model:\n",
    "    CONV2D -> RELU -> MAXPOOL -> CONV2D -> RELU -> MAXPOOL -> FLATTEN -> DENSE\n",
    "    \n",
    "    Note that for simplicity and grading purposes, you'll hard-code some values\n",
    "    such as the stride and kernel (filter) sizes. \n",
    "    Normally, functions should take these values as function parameters.\n",
    "    \n",
    "    Arguments:\n",
    "    input_img -- input dataset, of shape (input_shape)\n",
    "\n",
    "    Returns:\n",
    "    model -- TF Keras model (object containing the information for the entire training process) \n",
    "    \"\"\"\n",
    "\n",
    "    input_img = tf.keras.Input(shape=input_shape)\n",
    "    ## CONV2D: 8 filters 4x4, stride of 1, padding 'SAME'\n",
    "    # Z1 = None\n",
    "    ## RELU\n",
    "    # A1 = None\n",
    "    ## MAXPOOL: window 8x8, stride 8, padding 'SAME'\n",
    "    # P1 = None\n",
    "    ## CONV2D: 16 filters 2x2, stride 1, padding 'SAME'\n",
    "    # Z2 = None\n",
    "    ## RELU\n",
    "    # A2 = None\n",
    "    ## MAXPOOL: window 4x4, stride 4, padding 'SAME'\n",
    "    # P2 = None\n",
    "    ## FLATTEN\n",
    "    # F = None\n",
    "    ## Dense layer\n",
    "    ## 6 neurons in output layer. Hint: one of the arguments should be \"activation='softmax'\" \n",
    "    # outputs = None\n",
    "    # YOUR CODE STARTS HERE\n",
    "    \n",
    "    ## CONV2D: 8 filters 4x4, stride of 1, padding 'SAME'\n",
    "    Z1 = tfl.Conv2D(filters= 8 , kernel_size = (4 , 4) , strides = 1 ,  padding = 'same')(input_img)\n",
    "    ## RELU\n",
    "    A1 = tfl.ReLU()(Z1)\n",
    "    ## MAXPOOL: window 8x8, stride 8, padding 'SAME'\n",
    "    P1 = tfl.MaxPool2D(pool_size = (8,8) , strides = (8 , 8) , padding = 'same')(A1)\n",
    "    ## CONV2D: 16 filters 2x2, stride 1, padding 'SAME'\n",
    "    Z2 = tfl.Conv2D(filters= 16 , kernel_size = (2 , 2) , strides = 1 ,  padding = 'same')(P1)\n",
    "    ## RELU\n",
    "    A2 = tfl.ReLU()(Z2)\n",
    "    ## MAXPOOL: window 4x4, stride 4, padding 'SAME'\n",
    "    P2 = tfl.MaxPool2D(pool_size = (4 , 4) , strides = (4 , 4) , padding = 'same')(A2)\n",
    "    ## FLATTEN\n",
    "    F = tfl.Flatten()(P2)\n",
    "    ## Dense layer\n",
    "    ## 6 neurons in output layer. Hint: one of the arguments should be \"activation='softmax'\" \n",
    "    outputs = tfl.Dense(units = 6, activation = 'softmax')(F)\n",
    "    \n",
    "    \n",
    "    # YOUR CODE ENDS HERE\n",
    "    model = tf.keras.Model(inputs=input_img, outputs=outputs)\n",
    "    return model"
   ]
  },
  {
   "cell_type": "code",
   "execution_count": 87,
   "metadata": {
    "deletable": false,
    "editable": false,
    "nbgrader": {
     "cell_type": "code",
     "checksum": "483d626949930a0b0ef20997e7c6ba72",
     "grade": true,
     "grade_id": "cell-45d22e92042174c9",
     "locked": true,
     "points": 10,
     "schema_version": 3,
     "solution": false,
     "task": false
    }
   },
   "outputs": [
    {
     "name": "stdout",
     "output_type": "stream",
     "text": [
      "Model: \"functional_7\"\n",
      "_________________________________________________________________\n",
      "Layer (type)                 Output Shape              Param #   \n",
      "=================================================================\n",
      "input_15 (InputLayer)        [(None, 64, 64, 3)]       0         \n",
      "_________________________________________________________________\n",
      "conv2d_28 (Conv2D)           (None, 64, 64, 8)         392       \n",
      "_________________________________________________________________\n",
      "re_lu_25 (ReLU)              (None, 64, 64, 8)         0         \n",
      "_________________________________________________________________\n",
      "max_pooling2d_20 (MaxPooling (None, 8, 8, 8)           0         \n",
      "_________________________________________________________________\n",
      "conv2d_29 (Conv2D)           (None, 8, 8, 16)          528       \n",
      "_________________________________________________________________\n",
      "re_lu_26 (ReLU)              (None, 8, 8, 16)          0         \n",
      "_________________________________________________________________\n",
      "max_pooling2d_21 (MaxPooling (None, 2, 2, 16)          0         \n",
      "_________________________________________________________________\n",
      "flatten_12 (Flatten)         (None, 64)                0         \n",
      "_________________________________________________________________\n",
      "dense_12 (Dense)             (None, 6)                 390       \n",
      "=================================================================\n",
      "Total params: 1,310\n",
      "Trainable params: 1,310\n",
      "Non-trainable params: 0\n",
      "_________________________________________________________________\n",
      "\u001b[32mAll tests passed!\u001b[0m\n"
     ]
    }
   ],
   "source": [
    "conv_model = convolutional_model((64, 64, 3))\n",
    "conv_model.compile(optimizer='adam',\n",
    "                  loss='categorical_crossentropy',\n",
    "                  metrics=['accuracy'])\n",
    "conv_model.summary()\n",
    "    \n",
    "output = [['InputLayer', [(None, 64, 64, 3)], 0],\n",
    "        ['Conv2D', (None, 64, 64, 8), 392, 'same', 'linear', 'GlorotUniform'],\n",
    "        ['ReLU', (None, 64, 64, 8), 0],\n",
    "        ['MaxPooling2D', (None, 8, 8, 8), 0, (8, 8), (8, 8), 'same'],\n",
    "        ['Conv2D', (None, 8, 8, 16), 528, 'same', 'linear', 'GlorotUniform'],\n",
    "        ['ReLU', (None, 8, 8, 16), 0],\n",
    "        ['MaxPooling2D', (None, 2, 2, 16), 0, (4, 4), (4, 4), 'same'],\n",
    "        ['Flatten', (None, 64), 0],\n",
    "        ['Dense', (None, 6), 390, 'softmax']]\n",
    "    \n",
    "comparator(summary(conv_model), output)"
   ]
  },
  {
   "cell_type": "markdown",
   "metadata": {},
   "source": [
    "Both the Sequential and Functional APIs return a TF Keras model object. The only difference is how inputs are handled inside the object model! "
   ]
  },
  {
   "cell_type": "markdown",
   "metadata": {},
   "source": [
    "<a name='4-4'></a>\n",
    "### 4.4 - Train the Model"
   ]
  },
  {
   "cell_type": "code",
   "execution_count": 88,
   "metadata": {},
   "outputs": [
    {
     "name": "stdout",
     "output_type": "stream",
     "text": [
      "Epoch 1/100\n",
      "17/17 [==============================] - 2s 107ms/step - loss: 1.7930 - accuracy: 0.2000 - val_loss: 1.7919 - val_accuracy: 0.2000\n",
      "Epoch 2/100\n",
      "17/17 [==============================] - 2s 106ms/step - loss: 1.7850 - accuracy: 0.2185 - val_loss: 1.7893 - val_accuracy: 0.2167\n",
      "Epoch 3/100\n",
      "17/17 [==============================] - 2s 101ms/step - loss: 1.7811 - accuracy: 0.2546 - val_loss: 1.7854 - val_accuracy: 0.1750\n",
      "Epoch 4/100\n",
      "17/17 [==============================] - 2s 106ms/step - loss: 1.7762 - accuracy: 0.2713 - val_loss: 1.7815 - val_accuracy: 0.1583\n",
      "Epoch 5/100\n",
      "17/17 [==============================] - 2s 106ms/step - loss: 1.7710 - accuracy: 0.2833 - val_loss: 1.7772 - val_accuracy: 0.1583\n",
      "Epoch 6/100\n",
      "17/17 [==============================] - 2s 100ms/step - loss: 1.7649 - accuracy: 0.3111 - val_loss: 1.7723 - val_accuracy: 0.2000\n",
      "Epoch 7/100\n",
      "17/17 [==============================] - 2s 106ms/step - loss: 1.7578 - accuracy: 0.3315 - val_loss: 1.7656 - val_accuracy: 0.2167\n",
      "Epoch 8/100\n",
      "17/17 [==============================] - 2s 106ms/step - loss: 1.7485 - accuracy: 0.3509 - val_loss: 1.7585 - val_accuracy: 0.3083\n",
      "Epoch 9/100\n",
      "17/17 [==============================] - 2s 106ms/step - loss: 1.7377 - accuracy: 0.3667 - val_loss: 1.7481 - val_accuracy: 0.2833\n",
      "Epoch 10/100\n",
      "17/17 [==============================] - 2s 106ms/step - loss: 1.7246 - accuracy: 0.3722 - val_loss: 1.7350 - val_accuracy: 0.3083\n",
      "Epoch 11/100\n",
      "17/17 [==============================] - 2s 106ms/step - loss: 1.7087 - accuracy: 0.3787 - val_loss: 1.7210 - val_accuracy: 0.3000\n",
      "Epoch 12/100\n",
      "17/17 [==============================] - 2s 106ms/step - loss: 1.6901 - accuracy: 0.3778 - val_loss: 1.7037 - val_accuracy: 0.3083\n",
      "Epoch 13/100\n",
      "17/17 [==============================] - 2s 106ms/step - loss: 1.6696 - accuracy: 0.3889 - val_loss: 1.6837 - val_accuracy: 0.2917\n",
      "Epoch 14/100\n",
      "17/17 [==============================] - 2s 106ms/step - loss: 1.6452 - accuracy: 0.3963 - val_loss: 1.6621 - val_accuracy: 0.3000\n",
      "Epoch 15/100\n",
      "17/17 [==============================] - 2s 106ms/step - loss: 1.6178 - accuracy: 0.3963 - val_loss: 1.6380 - val_accuracy: 0.3000\n",
      "Epoch 16/100\n",
      "17/17 [==============================] - 2s 101ms/step - loss: 1.5878 - accuracy: 0.4028 - val_loss: 1.6101 - val_accuracy: 0.3333\n",
      "Epoch 17/100\n",
      "17/17 [==============================] - 2s 107ms/step - loss: 1.5560 - accuracy: 0.4176 - val_loss: 1.5808 - val_accuracy: 0.3583\n",
      "Epoch 18/100\n",
      "17/17 [==============================] - 2s 106ms/step - loss: 1.5227 - accuracy: 0.4333 - val_loss: 1.5512 - val_accuracy: 0.3750\n",
      "Epoch 19/100\n",
      "17/17 [==============================] - 2s 106ms/step - loss: 1.4891 - accuracy: 0.4537 - val_loss: 1.5208 - val_accuracy: 0.4250\n",
      "Epoch 20/100\n",
      "17/17 [==============================] - 2s 111ms/step - loss: 1.4568 - accuracy: 0.4676 - val_loss: 1.4909 - val_accuracy: 0.4583\n",
      "Epoch 21/100\n",
      "17/17 [==============================] - 2s 106ms/step - loss: 1.4228 - accuracy: 0.4907 - val_loss: 1.4614 - val_accuracy: 0.4917\n",
      "Epoch 22/100\n",
      "17/17 [==============================] - 2s 101ms/step - loss: 1.3895 - accuracy: 0.5028 - val_loss: 1.4303 - val_accuracy: 0.4667\n",
      "Epoch 23/100\n",
      "17/17 [==============================] - 2s 106ms/step - loss: 1.3530 - accuracy: 0.5241 - val_loss: 1.3913 - val_accuracy: 0.4917\n",
      "Epoch 24/100\n",
      "17/17 [==============================] - 2s 106ms/step - loss: 1.3179 - accuracy: 0.5435 - val_loss: 1.3559 - val_accuracy: 0.4833\n",
      "Epoch 25/100\n",
      "17/17 [==============================] - 2s 107ms/step - loss: 1.2825 - accuracy: 0.5556 - val_loss: 1.3218 - val_accuracy: 0.4833\n",
      "Epoch 26/100\n",
      "17/17 [==============================] - 2s 106ms/step - loss: 1.2484 - accuracy: 0.5722 - val_loss: 1.2928 - val_accuracy: 0.5250\n",
      "Epoch 27/100\n",
      "17/17 [==============================] - 2s 112ms/step - loss: 1.2171 - accuracy: 0.5806 - val_loss: 1.2633 - val_accuracy: 0.5333\n",
      "Epoch 28/100\n",
      "17/17 [==============================] - 2s 106ms/step - loss: 1.1876 - accuracy: 0.5880 - val_loss: 1.2377 - val_accuracy: 0.5250\n",
      "Epoch 29/100\n",
      "17/17 [==============================] - 2s 106ms/step - loss: 1.1593 - accuracy: 0.5972 - val_loss: 1.2089 - val_accuracy: 0.5333\n",
      "Epoch 30/100\n",
      "17/17 [==============================] - 2s 106ms/step - loss: 1.1318 - accuracy: 0.6120 - val_loss: 1.1822 - val_accuracy: 0.5583\n",
      "Epoch 31/100\n",
      "17/17 [==============================] - 2s 106ms/step - loss: 1.1021 - accuracy: 0.6213 - val_loss: 1.1521 - val_accuracy: 0.5750\n",
      "Epoch 32/100\n",
      "17/17 [==============================] - 2s 106ms/step - loss: 1.0757 - accuracy: 0.6315 - val_loss: 1.1248 - val_accuracy: 0.5667\n",
      "Epoch 33/100\n",
      "17/17 [==============================] - 2s 107ms/step - loss: 1.0499 - accuracy: 0.6463 - val_loss: 1.1004 - val_accuracy: 0.5833\n",
      "Epoch 34/100\n",
      "17/17 [==============================] - 2s 106ms/step - loss: 1.0257 - accuracy: 0.6537 - val_loss: 1.0798 - val_accuracy: 0.6083\n",
      "Epoch 35/100\n",
      "17/17 [==============================] - 2s 106ms/step - loss: 1.0035 - accuracy: 0.6611 - val_loss: 1.0569 - val_accuracy: 0.6250\n",
      "Epoch 36/100\n",
      "17/17 [==============================] - 2s 106ms/step - loss: 0.9825 - accuracy: 0.6648 - val_loss: 1.0378 - val_accuracy: 0.6500\n",
      "Epoch 37/100\n",
      "17/17 [==============================] - 2s 106ms/step - loss: 0.9621 - accuracy: 0.6769 - val_loss: 1.0190 - val_accuracy: 0.6583\n",
      "Epoch 38/100\n",
      "17/17 [==============================] - 2s 106ms/step - loss: 0.9430 - accuracy: 0.6880 - val_loss: 1.0019 - val_accuracy: 0.6583\n",
      "Epoch 39/100\n",
      "17/17 [==============================] - 2s 106ms/step - loss: 0.9251 - accuracy: 0.6898 - val_loss: 0.9853 - val_accuracy: 0.6917\n",
      "Epoch 40/100\n",
      "17/17 [==============================] - 2s 111ms/step - loss: 0.9082 - accuracy: 0.6954 - val_loss: 0.9685 - val_accuracy: 0.6833\n",
      "Epoch 41/100\n",
      "17/17 [==============================] - 2s 111ms/step - loss: 0.8915 - accuracy: 0.7009 - val_loss: 0.9503 - val_accuracy: 0.7083\n",
      "Epoch 42/100\n",
      "17/17 [==============================] - 2s 106ms/step - loss: 0.8759 - accuracy: 0.7139 - val_loss: 0.9381 - val_accuracy: 0.7083\n",
      "Epoch 43/100\n",
      "17/17 [==============================] - 2s 106ms/step - loss: 0.8613 - accuracy: 0.7194 - val_loss: 0.9202 - val_accuracy: 0.7333\n",
      "Epoch 44/100\n",
      "17/17 [==============================] - 2s 106ms/step - loss: 0.8470 - accuracy: 0.7259 - val_loss: 0.9078 - val_accuracy: 0.7250\n",
      "Epoch 45/100\n",
      "17/17 [==============================] - 2s 112ms/step - loss: 0.8332 - accuracy: 0.7287 - val_loss: 0.8925 - val_accuracy: 0.7250\n",
      "Epoch 46/100\n",
      "17/17 [==============================] - 2s 106ms/step - loss: 0.8198 - accuracy: 0.7333 - val_loss: 0.8816 - val_accuracy: 0.7167\n",
      "Epoch 47/100\n",
      "17/17 [==============================] - 2s 106ms/step - loss: 0.8074 - accuracy: 0.7343 - val_loss: 0.8697 - val_accuracy: 0.7167\n",
      "Epoch 48/100\n",
      "17/17 [==============================] - 2s 111ms/step - loss: 0.7949 - accuracy: 0.7352 - val_loss: 0.8587 - val_accuracy: 0.7250\n",
      "Epoch 49/100\n",
      "17/17 [==============================] - 2s 106ms/step - loss: 0.7840 - accuracy: 0.7472 - val_loss: 0.8466 - val_accuracy: 0.7250\n",
      "Epoch 50/100\n",
      "17/17 [==============================] - 2s 106ms/step - loss: 0.7723 - accuracy: 0.7454 - val_loss: 0.8365 - val_accuracy: 0.7333\n",
      "Epoch 51/100\n",
      "17/17 [==============================] - 2s 106ms/step - loss: 0.7625 - accuracy: 0.7509 - val_loss: 0.8284 - val_accuracy: 0.7250\n",
      "Epoch 52/100\n",
      "17/17 [==============================] - 2s 106ms/step - loss: 0.7514 - accuracy: 0.7556 - val_loss: 0.8200 - val_accuracy: 0.7417\n",
      "Epoch 53/100\n",
      "17/17 [==============================] - 2s 112ms/step - loss: 0.7422 - accuracy: 0.7565 - val_loss: 0.8131 - val_accuracy: 0.7333\n",
      "Epoch 54/100\n",
      "17/17 [==============================] - 2s 106ms/step - loss: 0.7329 - accuracy: 0.7593 - val_loss: 0.8033 - val_accuracy: 0.7333\n",
      "Epoch 55/100\n",
      "17/17 [==============================] - 2s 106ms/step - loss: 0.7240 - accuracy: 0.7620 - val_loss: 0.7977 - val_accuracy: 0.7333\n",
      "Epoch 56/100\n",
      "17/17 [==============================] - 2s 106ms/step - loss: 0.7146 - accuracy: 0.7639 - val_loss: 0.7892 - val_accuracy: 0.7250\n",
      "Epoch 57/100\n",
      "17/17 [==============================] - 2s 106ms/step - loss: 0.7065 - accuracy: 0.7713 - val_loss: 0.7824 - val_accuracy: 0.7250\n"
     ]
    },
    {
     "name": "stdout",
     "output_type": "stream",
     "text": [
      "Epoch 58/100\n",
      "17/17 [==============================] - 2s 112ms/step - loss: 0.6981 - accuracy: 0.7713 - val_loss: 0.7751 - val_accuracy: 0.7333\n",
      "Epoch 59/100\n",
      "17/17 [==============================] - 2s 106ms/step - loss: 0.6904 - accuracy: 0.7778 - val_loss: 0.7684 - val_accuracy: 0.7417\n",
      "Epoch 60/100\n",
      "17/17 [==============================] - 2s 106ms/step - loss: 0.6827 - accuracy: 0.7769 - val_loss: 0.7620 - val_accuracy: 0.7500\n",
      "Epoch 61/100\n",
      "17/17 [==============================] - 2s 106ms/step - loss: 0.6751 - accuracy: 0.7815 - val_loss: 0.7574 - val_accuracy: 0.7500\n",
      "Epoch 62/100\n",
      "17/17 [==============================] - 2s 107ms/step - loss: 0.6676 - accuracy: 0.7870 - val_loss: 0.7521 - val_accuracy: 0.7417\n",
      "Epoch 63/100\n",
      "17/17 [==============================] - 2s 106ms/step - loss: 0.6614 - accuracy: 0.7852 - val_loss: 0.7442 - val_accuracy: 0.7500\n",
      "Epoch 64/100\n",
      "17/17 [==============================] - 2s 107ms/step - loss: 0.6545 - accuracy: 0.7898 - val_loss: 0.7388 - val_accuracy: 0.7500\n",
      "Epoch 65/100\n",
      "17/17 [==============================] - 2s 107ms/step - loss: 0.6482 - accuracy: 0.7917 - val_loss: 0.7335 - val_accuracy: 0.7500\n",
      "Epoch 66/100\n",
      "17/17 [==============================] - 2s 106ms/step - loss: 0.6411 - accuracy: 0.7898 - val_loss: 0.7280 - val_accuracy: 0.7500\n",
      "Epoch 67/100\n",
      "17/17 [==============================] - 2s 111ms/step - loss: 0.6353 - accuracy: 0.7963 - val_loss: 0.7236 - val_accuracy: 0.7500\n",
      "Epoch 68/100\n",
      "17/17 [==============================] - 2s 111ms/step - loss: 0.6278 - accuracy: 0.7963 - val_loss: 0.7180 - val_accuracy: 0.7583\n",
      "Epoch 69/100\n",
      "17/17 [==============================] - 2s 111ms/step - loss: 0.6218 - accuracy: 0.7963 - val_loss: 0.7139 - val_accuracy: 0.7500\n",
      "Epoch 70/100\n",
      "17/17 [==============================] - 2s 111ms/step - loss: 0.6159 - accuracy: 0.8046 - val_loss: 0.7095 - val_accuracy: 0.7583\n",
      "Epoch 71/100\n",
      "17/17 [==============================] - 2s 111ms/step - loss: 0.6104 - accuracy: 0.8037 - val_loss: 0.7069 - val_accuracy: 0.7500\n",
      "Epoch 72/100\n",
      "17/17 [==============================] - 2s 106ms/step - loss: 0.6048 - accuracy: 0.8056 - val_loss: 0.7012 - val_accuracy: 0.7583\n",
      "Epoch 73/100\n",
      "17/17 [==============================] - 2s 111ms/step - loss: 0.5998 - accuracy: 0.8065 - val_loss: 0.6974 - val_accuracy: 0.7500\n",
      "Epoch 74/100\n",
      "17/17 [==============================] - 2s 106ms/step - loss: 0.5942 - accuracy: 0.8093 - val_loss: 0.6920 - val_accuracy: 0.7583\n",
      "Epoch 75/100\n",
      "17/17 [==============================] - 2s 107ms/step - loss: 0.5894 - accuracy: 0.8148 - val_loss: 0.6893 - val_accuracy: 0.7583\n",
      "Epoch 76/100\n",
      "17/17 [==============================] - 2s 112ms/step - loss: 0.5837 - accuracy: 0.8139 - val_loss: 0.6842 - val_accuracy: 0.7583\n",
      "Epoch 77/100\n",
      "17/17 [==============================] - 2s 106ms/step - loss: 0.5795 - accuracy: 0.8139 - val_loss: 0.6806 - val_accuracy: 0.7583\n",
      "Epoch 78/100\n",
      "17/17 [==============================] - 2s 106ms/step - loss: 0.5745 - accuracy: 0.8139 - val_loss: 0.6765 - val_accuracy: 0.7583\n",
      "Epoch 79/100\n",
      "17/17 [==============================] - 2s 106ms/step - loss: 0.5701 - accuracy: 0.8157 - val_loss: 0.6727 - val_accuracy: 0.7583\n",
      "Epoch 80/100\n",
      "17/17 [==============================] - 2s 106ms/step - loss: 0.5649 - accuracy: 0.8194 - val_loss: 0.6703 - val_accuracy: 0.7583\n",
      "Epoch 81/100\n",
      "17/17 [==============================] - 2s 107ms/step - loss: 0.5607 - accuracy: 0.8259 - val_loss: 0.6669 - val_accuracy: 0.7583\n",
      "Epoch 82/100\n",
      "17/17 [==============================] - 2s 106ms/step - loss: 0.5558 - accuracy: 0.8231 - val_loss: 0.6628 - val_accuracy: 0.7667\n",
      "Epoch 83/100\n",
      "17/17 [==============================] - 2s 106ms/step - loss: 0.5513 - accuracy: 0.8269 - val_loss: 0.6620 - val_accuracy: 0.7583\n",
      "Epoch 84/100\n",
      "17/17 [==============================] - 2s 106ms/step - loss: 0.5466 - accuracy: 0.8287 - val_loss: 0.6571 - val_accuracy: 0.7667\n",
      "Epoch 85/100\n",
      "17/17 [==============================] - 2s 106ms/step - loss: 0.5430 - accuracy: 0.8222 - val_loss: 0.6542 - val_accuracy: 0.7583\n",
      "Epoch 86/100\n",
      "17/17 [==============================] - 2s 106ms/step - loss: 0.5378 - accuracy: 0.8315 - val_loss: 0.6542 - val_accuracy: 0.7667\n",
      "Epoch 87/100\n",
      "17/17 [==============================] - 2s 106ms/step - loss: 0.5344 - accuracy: 0.8287 - val_loss: 0.6494 - val_accuracy: 0.7667\n",
      "Epoch 88/100\n",
      "17/17 [==============================] - 2s 111ms/step - loss: 0.5300 - accuracy: 0.8250 - val_loss: 0.6461 - val_accuracy: 0.7667\n",
      "Epoch 89/100\n",
      "17/17 [==============================] - 2s 106ms/step - loss: 0.5259 - accuracy: 0.8343 - val_loss: 0.6465 - val_accuracy: 0.7667\n",
      "Epoch 90/100\n",
      "17/17 [==============================] - 2s 111ms/step - loss: 0.5219 - accuracy: 0.8333 - val_loss: 0.6440 - val_accuracy: 0.7667\n",
      "Epoch 91/100\n",
      "17/17 [==============================] - 2s 106ms/step - loss: 0.5187 - accuracy: 0.8361 - val_loss: 0.6413 - val_accuracy: 0.7667\n",
      "Epoch 92/100\n",
      "17/17 [==============================] - 2s 106ms/step - loss: 0.5135 - accuracy: 0.8333 - val_loss: 0.6384 - val_accuracy: 0.7583\n",
      "Epoch 93/100\n",
      "17/17 [==============================] - 2s 111ms/step - loss: 0.5106 - accuracy: 0.8389 - val_loss: 0.6372 - val_accuracy: 0.7583\n",
      "Epoch 94/100\n",
      "17/17 [==============================] - 2s 106ms/step - loss: 0.5063 - accuracy: 0.8398 - val_loss: 0.6349 - val_accuracy: 0.7667\n",
      "Epoch 95/100\n",
      "17/17 [==============================] - 2s 106ms/step - loss: 0.5035 - accuracy: 0.8398 - val_loss: 0.6339 - val_accuracy: 0.7583\n",
      "Epoch 96/100\n",
      "17/17 [==============================] - 2s 106ms/step - loss: 0.4990 - accuracy: 0.8398 - val_loss: 0.6294 - val_accuracy: 0.7583\n",
      "Epoch 97/100\n",
      "17/17 [==============================] - 2s 106ms/step - loss: 0.4962 - accuracy: 0.8435 - val_loss: 0.6275 - val_accuracy: 0.7583\n",
      "Epoch 98/100\n",
      "17/17 [==============================] - 2s 106ms/step - loss: 0.4923 - accuracy: 0.8463 - val_loss: 0.6250 - val_accuracy: 0.7583\n",
      "Epoch 99/100\n",
      "17/17 [==============================] - 2s 106ms/step - loss: 0.4892 - accuracy: 0.8472 - val_loss: 0.6238 - val_accuracy: 0.7667\n",
      "Epoch 100/100\n",
      "17/17 [==============================] - 2s 105ms/step - loss: 0.4854 - accuracy: 0.8481 - val_loss: 0.6203 - val_accuracy: 0.7667\n"
     ]
    }
   ],
   "source": [
    "train_dataset = tf.data.Dataset.from_tensor_slices((X_train, Y_train)).batch(64)\n",
    "test_dataset = tf.data.Dataset.from_tensor_slices((X_test, Y_test)).batch(64)\n",
    "history = conv_model.fit(train_dataset, epochs=100, validation_data=test_dataset)"
   ]
  },
  {
   "cell_type": "markdown",
   "metadata": {},
   "source": [
    "<a name='5'></a>\n",
    "## 5 - History Object \n",
    "\n",
    "The history object is an output of the `.fit()` operation, and provides a record of all the loss and metric values in memory. It's stored as a dictionary that you can retrieve at `history.history`: "
   ]
  },
  {
   "cell_type": "code",
   "execution_count": 89,
   "metadata": {},
   "outputs": [
    {
     "data": {
      "text/plain": [
       "{'loss': [1.793036699295044,\n",
       "  1.7849732637405396,\n",
       "  1.781097173690796,\n",
       "  1.7762163877487183,\n",
       "  1.771026849746704,\n",
       "  1.7649006843566895,\n",
       "  1.7577590942382812,\n",
       "  1.7484626770019531,\n",
       "  1.7377392053604126,\n",
       "  1.7245826721191406,\n",
       "  1.7087041139602661,\n",
       "  1.6901007890701294,\n",
       "  1.6695586442947388,\n",
       "  1.6451897621154785,\n",
       "  1.617848515510559,\n",
       "  1.5878286361694336,\n",
       "  1.5559601783752441,\n",
       "  1.5226606130599976,\n",
       "  1.4890801906585693,\n",
       "  1.4567861557006836,\n",
       "  1.4227882623672485,\n",
       "  1.3895343542099,\n",
       "  1.3529819250106812,\n",
       "  1.3179066181182861,\n",
       "  1.2825337648391724,\n",
       "  1.2484450340270996,\n",
       "  1.2170649766921997,\n",
       "  1.1876164674758911,\n",
       "  1.1592620611190796,\n",
       "  1.1317840814590454,\n",
       "  1.1021441221237183,\n",
       "  1.0756851434707642,\n",
       "  1.0499227046966553,\n",
       "  1.0256813764572144,\n",
       "  1.0035412311553955,\n",
       "  0.9825491309165955,\n",
       "  0.9621493816375732,\n",
       "  0.9430325627326965,\n",
       "  0.9250615239143372,\n",
       "  0.9082352519035339,\n",
       "  0.891492486000061,\n",
       "  0.8758992552757263,\n",
       "  0.8612878918647766,\n",
       "  0.8470285534858704,\n",
       "  0.8332229852676392,\n",
       "  0.8198282122612,\n",
       "  0.8074004650115967,\n",
       "  0.7948513031005859,\n",
       "  0.7839689254760742,\n",
       "  0.7722773551940918,\n",
       "  0.7625028491020203,\n",
       "  0.7514312267303467,\n",
       "  0.7422084808349609,\n",
       "  0.7329119443893433,\n",
       "  0.7239871025085449,\n",
       "  0.714624285697937,\n",
       "  0.7064947485923767,\n",
       "  0.6981115341186523,\n",
       "  0.6903858780860901,\n",
       "  0.6827107071876526,\n",
       "  0.6751255989074707,\n",
       "  0.6675844788551331,\n",
       "  0.6613920331001282,\n",
       "  0.654508113861084,\n",
       "  0.6481831073760986,\n",
       "  0.6411371827125549,\n",
       "  0.6353184580802917,\n",
       "  0.6278106570243835,\n",
       "  0.6218382716178894,\n",
       "  0.6159172058105469,\n",
       "  0.6103536486625671,\n",
       "  0.6047510504722595,\n",
       "  0.5997701287269592,\n",
       "  0.5941752195358276,\n",
       "  0.5894296765327454,\n",
       "  0.5836722254753113,\n",
       "  0.5795156359672546,\n",
       "  0.5744982957839966,\n",
       "  0.5701313614845276,\n",
       "  0.564923107624054,\n",
       "  0.5606552958488464,\n",
       "  0.5558428168296814,\n",
       "  0.5512977838516235,\n",
       "  0.5466131567955017,\n",
       "  0.542972207069397,\n",
       "  0.5378338098526001,\n",
       "  0.5344057679176331,\n",
       "  0.5299928188323975,\n",
       "  0.525947630405426,\n",
       "  0.5219460725784302,\n",
       "  0.5187075138092041,\n",
       "  0.5135298371315002,\n",
       "  0.5106347799301147,\n",
       "  0.5063096880912781,\n",
       "  0.5034590363502502,\n",
       "  0.4989537000656128,\n",
       "  0.496153324842453,\n",
       "  0.4922610819339752,\n",
       "  0.48919880390167236,\n",
       "  0.48542773723602295],\n",
       " 'accuracy': [0.20000000298023224,\n",
       "  0.21851852536201477,\n",
       "  0.25462964177131653,\n",
       "  0.27129629254341125,\n",
       "  0.28333333134651184,\n",
       "  0.31111112236976624,\n",
       "  0.3314814865589142,\n",
       "  0.35092592239379883,\n",
       "  0.36666667461395264,\n",
       "  0.3722222149372101,\n",
       "  0.3787037134170532,\n",
       "  0.3777777850627899,\n",
       "  0.3888888955116272,\n",
       "  0.39629629254341125,\n",
       "  0.39629629254341125,\n",
       "  0.4027777910232544,\n",
       "  0.4175925850868225,\n",
       "  0.4333333373069763,\n",
       "  0.45370370149612427,\n",
       "  0.46759259700775146,\n",
       "  0.49074074625968933,\n",
       "  0.5027777552604675,\n",
       "  0.5240740776062012,\n",
       "  0.5435185432434082,\n",
       "  0.5555555820465088,\n",
       "  0.5722222328186035,\n",
       "  0.5805555582046509,\n",
       "  0.5879629850387573,\n",
       "  0.5972222089767456,\n",
       "  0.6120370626449585,\n",
       "  0.6212962865829468,\n",
       "  0.6314814686775208,\n",
       "  0.6462963223457336,\n",
       "  0.6537036895751953,\n",
       "  0.6611111164093018,\n",
       "  0.664814829826355,\n",
       "  0.6768518686294556,\n",
       "  0.6879629492759705,\n",
       "  0.6898148059844971,\n",
       "  0.6953703761100769,\n",
       "  0.7009259462356567,\n",
       "  0.7138888835906982,\n",
       "  0.7194444537162781,\n",
       "  0.7259259223937988,\n",
       "  0.7287036776542664,\n",
       "  0.7333333492279053,\n",
       "  0.7342592477798462,\n",
       "  0.7351852059364319,\n",
       "  0.7472222447395325,\n",
       "  0.7453703880310059,\n",
       "  0.7509258985519409,\n",
       "  0.7555555701255798,\n",
       "  0.7564814686775208,\n",
       "  0.7592592835426331,\n",
       "  0.7620370388031006,\n",
       "  0.7638888955116272,\n",
       "  0.7712963223457336,\n",
       "  0.7712963223457336,\n",
       "  0.7777777910232544,\n",
       "  0.7768518328666687,\n",
       "  0.7814815044403076,\n",
       "  0.7870370149612427,\n",
       "  0.7851851582527161,\n",
       "  0.789814829826355,\n",
       "  0.7916666865348816,\n",
       "  0.789814829826355,\n",
       "  0.7962962985038757,\n",
       "  0.7962962985038757,\n",
       "  0.7962962985038757,\n",
       "  0.8046296238899231,\n",
       "  0.8037037253379822,\n",
       "  0.8055555820465088,\n",
       "  0.8064814805984497,\n",
       "  0.8092592358589172,\n",
       "  0.8148148059844971,\n",
       "  0.8138889074325562,\n",
       "  0.8138889074325562,\n",
       "  0.8138889074325562,\n",
       "  0.8157407641410828,\n",
       "  0.8194444179534912,\n",
       "  0.8259259462356567,\n",
       "  0.8231481313705444,\n",
       "  0.8268518447875977,\n",
       "  0.8287037014961243,\n",
       "  0.8222222328186035,\n",
       "  0.8314814567565918,\n",
       "  0.8287037014961243,\n",
       "  0.824999988079071,\n",
       "  0.8342592716217041,\n",
       "  0.8333333134651184,\n",
       "  0.8361111283302307,\n",
       "  0.8333333134651184,\n",
       "  0.8388888835906982,\n",
       "  0.8398148417472839,\n",
       "  0.8398148417472839,\n",
       "  0.8398148417472839,\n",
       "  0.8435184955596924,\n",
       "  0.8462963104248047,\n",
       "  0.8472222089767456,\n",
       "  0.8481481671333313],\n",
       " 'val_loss': [1.791900634765625,\n",
       "  1.7892643213272095,\n",
       "  1.7853846549987793,\n",
       "  1.7815078496932983,\n",
       "  1.7772282361984253,\n",
       "  1.7722516059875488,\n",
       "  1.7655900716781616,\n",
       "  1.7585324048995972,\n",
       "  1.7481321096420288,\n",
       "  1.7350306510925293,\n",
       "  1.7210330963134766,\n",
       "  1.7036739587783813,\n",
       "  1.683685541152954,\n",
       "  1.6621297597885132,\n",
       "  1.6379780769348145,\n",
       "  1.6101282835006714,\n",
       "  1.5807727575302124,\n",
       "  1.5512348413467407,\n",
       "  1.5208369493484497,\n",
       "  1.4909318685531616,\n",
       "  1.461443305015564,\n",
       "  1.4302566051483154,\n",
       "  1.3913350105285645,\n",
       "  1.3559420108795166,\n",
       "  1.32181978225708,\n",
       "  1.2928425073623657,\n",
       "  1.2633020877838135,\n",
       "  1.2376933097839355,\n",
       "  1.2089399099349976,\n",
       "  1.1822258234024048,\n",
       "  1.1521252393722534,\n",
       "  1.124828577041626,\n",
       "  1.100414514541626,\n",
       "  1.0797569751739502,\n",
       "  1.056901454925537,\n",
       "  1.0377579927444458,\n",
       "  1.0190106630325317,\n",
       "  1.0018986463546753,\n",
       "  0.985312283039093,\n",
       "  0.9684523344039917,\n",
       "  0.9503186345100403,\n",
       "  0.9380577802658081,\n",
       "  0.9202479720115662,\n",
       "  0.9078084230422974,\n",
       "  0.8925250768661499,\n",
       "  0.8816262483596802,\n",
       "  0.8696569800376892,\n",
       "  0.8587051630020142,\n",
       "  0.8466328978538513,\n",
       "  0.8364599943161011,\n",
       "  0.828355073928833,\n",
       "  0.8199759721755981,\n",
       "  0.813085675239563,\n",
       "  0.8032919764518738,\n",
       "  0.7977493405342102,\n",
       "  0.789176344871521,\n",
       "  0.7824074625968933,\n",
       "  0.7750875949859619,\n",
       "  0.7683557868003845,\n",
       "  0.7620212435722351,\n",
       "  0.7573556303977966,\n",
       "  0.7520602941513062,\n",
       "  0.7442308068275452,\n",
       "  0.7387702465057373,\n",
       "  0.7335411906242371,\n",
       "  0.727979302406311,\n",
       "  0.7235528230667114,\n",
       "  0.7180286645889282,\n",
       "  0.71394282579422,\n",
       "  0.709467351436615,\n",
       "  0.706899106502533,\n",
       "  0.701166033744812,\n",
       "  0.6974258422851562,\n",
       "  0.6920480132102966,\n",
       "  0.689264178276062,\n",
       "  0.6841527223587036,\n",
       "  0.6805867552757263,\n",
       "  0.6765251755714417,\n",
       "  0.6727260947227478,\n",
       "  0.6702678799629211,\n",
       "  0.6669248938560486,\n",
       "  0.6627641916275024,\n",
       "  0.662027895450592,\n",
       "  0.6570970416069031,\n",
       "  0.6541711688041687,\n",
       "  0.6541942358016968,\n",
       "  0.6494265794754028,\n",
       "  0.6460802555084229,\n",
       "  0.6465262174606323,\n",
       "  0.6440160274505615,\n",
       "  0.6413221955299377,\n",
       "  0.6384486556053162,\n",
       "  0.6372159123420715,\n",
       "  0.6348856687545776,\n",
       "  0.6339064240455627,\n",
       "  0.6293866634368896,\n",
       "  0.627516508102417,\n",
       "  0.6250138878822327,\n",
       "  0.6237919926643372,\n",
       "  0.6203078031539917],\n",
       " 'val_accuracy': [0.20000000298023224,\n",
       "  0.21666666865348816,\n",
       "  0.17499999701976776,\n",
       "  0.15833333134651184,\n",
       "  0.15833333134651184,\n",
       "  0.20000000298023224,\n",
       "  0.21666666865348816,\n",
       "  0.3083333373069763,\n",
       "  0.28333333134651184,\n",
       "  0.3083333373069763,\n",
       "  0.30000001192092896,\n",
       "  0.3083333373069763,\n",
       "  0.2916666567325592,\n",
       "  0.30000001192092896,\n",
       "  0.30000001192092896,\n",
       "  0.3333333432674408,\n",
       "  0.3583333194255829,\n",
       "  0.375,\n",
       "  0.42500001192092896,\n",
       "  0.4583333432674408,\n",
       "  0.49166667461395264,\n",
       "  0.46666666865348816,\n",
       "  0.49166667461395264,\n",
       "  0.4833333194255829,\n",
       "  0.4833333194255829,\n",
       "  0.5249999761581421,\n",
       "  0.5333333611488342,\n",
       "  0.5249999761581421,\n",
       "  0.5333333611488342,\n",
       "  0.5583333373069763,\n",
       "  0.574999988079071,\n",
       "  0.5666666626930237,\n",
       "  0.5833333134651184,\n",
       "  0.6083333492279053,\n",
       "  0.625,\n",
       "  0.6499999761581421,\n",
       "  0.6583333611488342,\n",
       "  0.6583333611488342,\n",
       "  0.6916666626930237,\n",
       "  0.6833333373069763,\n",
       "  0.7083333134651184,\n",
       "  0.7083333134651184,\n",
       "  0.7333333492279053,\n",
       "  0.7250000238418579,\n",
       "  0.7250000238418579,\n",
       "  0.7166666388511658,\n",
       "  0.7166666388511658,\n",
       "  0.7250000238418579,\n",
       "  0.7250000238418579,\n",
       "  0.7333333492279053,\n",
       "  0.7250000238418579,\n",
       "  0.7416666746139526,\n",
       "  0.7333333492279053,\n",
       "  0.7333333492279053,\n",
       "  0.7333333492279053,\n",
       "  0.7250000238418579,\n",
       "  0.7250000238418579,\n",
       "  0.7333333492279053,\n",
       "  0.7416666746139526,\n",
       "  0.75,\n",
       "  0.75,\n",
       "  0.7416666746139526,\n",
       "  0.75,\n",
       "  0.75,\n",
       "  0.75,\n",
       "  0.75,\n",
       "  0.75,\n",
       "  0.7583333253860474,\n",
       "  0.75,\n",
       "  0.7583333253860474,\n",
       "  0.75,\n",
       "  0.7583333253860474,\n",
       "  0.75,\n",
       "  0.7583333253860474,\n",
       "  0.7583333253860474,\n",
       "  0.7583333253860474,\n",
       "  0.7583333253860474,\n",
       "  0.7583333253860474,\n",
       "  0.7583333253860474,\n",
       "  0.7583333253860474,\n",
       "  0.7583333253860474,\n",
       "  0.7666666507720947,\n",
       "  0.7583333253860474,\n",
       "  0.7666666507720947,\n",
       "  0.7583333253860474,\n",
       "  0.7666666507720947,\n",
       "  0.7666666507720947,\n",
       "  0.7666666507720947,\n",
       "  0.7666666507720947,\n",
       "  0.7666666507720947,\n",
       "  0.7666666507720947,\n",
       "  0.7583333253860474,\n",
       "  0.7583333253860474,\n",
       "  0.7666666507720947,\n",
       "  0.7583333253860474,\n",
       "  0.7583333253860474,\n",
       "  0.7583333253860474,\n",
       "  0.7583333253860474,\n",
       "  0.7666666507720947,\n",
       "  0.7666666507720947]}"
      ]
     },
     "execution_count": 89,
     "metadata": {},
     "output_type": "execute_result"
    }
   ],
   "source": [
    "history.history"
   ]
  },
  {
   "cell_type": "markdown",
   "metadata": {},
   "source": [
    "Now visualize the loss over time using `history.history`: "
   ]
  },
  {
   "cell_type": "code",
   "execution_count": 90,
   "metadata": {},
   "outputs": [
    {
     "data": {
      "text/plain": [
       "[Text(0, 0.5, 'Accuracy'), Text(0.5, 0, 'Epoch')]"
      ]
     },
     "execution_count": 90,
     "metadata": {},
     "output_type": "execute_result"
    },
    {
     "data": {
      "image/png": "[encoded data removed]",
      "text/plain": [
       "<Figure size 864x576 with 1 Axes>"
      ]
     },
     "metadata": {
      "needs_background": "light"
     },
     "output_type": "display_data"
    },
    {
     "data": {
      "image/png": "[encoded data removed]",
      "text/plain": [
       "<Figure size 864x576 with 1 Axes>"
      ]
     },
     "metadata": {
      "needs_background": "light"
     },
     "output_type": "display_data"
    }
   ],
   "source": [
    "# The history.history[\"loss\"] entry is a dictionary with as many values as epochs that the\n",
    "# model was trained on. \n",
    "df_loss_acc = pd.DataFrame(history.history)\n",
    "df_loss= df_loss_acc[['loss','val_loss']]\n",
    "df_loss.rename(columns={'loss':'train','val_loss':'validation'},inplace=True)\n",
    "df_acc= df_loss_acc[['accuracy','val_accuracy']]\n",
    "df_acc.rename(columns={'accuracy':'train','val_accuracy':'validation'},inplace=True)\n",
    "df_loss.plot(title='Model loss',figsize=(12,8)).set(xlabel='Epoch',ylabel='Loss')\n",
    "df_acc.plot(title='Model Accuracy',figsize=(12,8)).set(xlabel='Epoch',ylabel='Accuracy')"
   ]
  },
  {
   "cell_type": "markdown",
   "metadata": {},
   "source": [
    "**Congratulations**! You've finished the assignment and built two models: One that recognizes  smiles, and another that recognizes SIGN language with almost 80% accuracy on the test set. In addition to that, you now also understand the applications of two Keras APIs: Sequential and Functional. Nicely done! \n",
    "\n",
    "By now, you know a bit about how the Functional API works and may have glimpsed the possibilities. In your next assignment, you'll really get a feel for its power when you get the opportunity to build a very deep ConvNet, using ResNets! "
   ]
  },
  {
   "cell_type": "markdown",
   "metadata": {},
   "source": [
    "<a name='6'></a>\n",
    "## 6 - Bibliography\n",
    "\n",
    "You're always encouraged to read the official documentation. To that end, you can find the docs for the Sequential and Functional APIs here: \n",
    "\n",
    "https://www.tensorflow.org/guide/keras/sequential_model\n",
    "\n",
    "https://www.tensorflow.org/guide/keras/functional"
   ]
  }
 ],
 "metadata": {
  "coursera": {
   "course_slug": "convolutional-neural-networks",
   "graded_item_id": "bwbJV",
   "launcher_item_id": "0TkXB"
  },
  "kernelspec": {
   "display_name": "Python 3",
   "language": "python",
   "name": "python3"
  },
  "language_info": {
   "codemirror_mode": {
    "name": "ipython",
    "version": 3
   },
   "file_extension": ".py",
   "mimetype": "text/x-python",
   "name": "python",
   "nbconvert_exporter": "python",
   "pygments_lexer": "ipython3",
   "version": "3.7.6"
  }
 },
 "nbformat": 4,
 "nbformat_minor": 2
}
